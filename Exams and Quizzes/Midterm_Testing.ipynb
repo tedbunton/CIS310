{
 "cells": [
  {
   "cell_type": "markdown",
   "metadata": {},
   "source": [
    "# Ted Bunton\n",
    "## Week 9 10/23/2020\n",
    "### Midterm Testing"
   ]
  },
  {
   "cell_type": "code",
   "execution_count": 2,
   "metadata": {},
   "outputs": [
    {
     "name": "stdout",
     "output_type": "stream",
     "text": [
      "12\n"
     ]
    }
   ],
   "source": [
    "x ={2,4,6}\n",
    "s=0\n",
    "for i in range(3):   \n",
    "    s = s + x.pop()\n",
    "\n",
    "print(s)"
   ]
  },
  {
   "cell_type": "code",
   "execution_count": 3,
   "metadata": {},
   "outputs": [
    {
     "name": "stdout",
     "output_type": "stream",
     "text": [
      "(2, 4, [6, 4])\n"
     ]
    }
   ],
   "source": [
    "x =[2,4]\n",
    "t = (2, 4, x)\n",
    "x[0] = sum(x)\n",
    "print(t)"
   ]
  },
  {
   "cell_type": "code",
   "execution_count": 4,
   "metadata": {},
   "outputs": [
    {
     "name": "stdout",
     "output_type": "stream",
     "text": [
      "[1, 2, 3, 4]\n"
     ]
    }
   ],
   "source": [
    "l = [1,2,3,4,5,6]\n",
    "print(l[0:-2])"
   ]
  },
  {
   "cell_type": "code",
   "execution_count": 5,
   "metadata": {},
   "outputs": [
    {
     "name": "stdout",
     "output_type": "stream",
     "text": [
      "True\n"
     ]
    }
   ],
   "source": [
    "a, b = 12, 5\n",
    "if a + b:    \n",
    "   print('True')\n",
    "else:\n",
    "   print('False')"
   ]
  },
  {
   "cell_type": "code",
   "execution_count": 6,
   "metadata": {},
   "outputs": [
    {
     "ename": "SyntaxError",
     "evalue": "invalid syntax (<ipython-input-6-b01646f275de>, line 2)",
     "output_type": "error",
     "traceback": [
      "\u001b[1;36m  File \u001b[1;32m\"<ipython-input-6-b01646f275de>\"\u001b[1;36m, line \u001b[1;32m2\u001b[0m\n\u001b[1;33m    for n in num\u001b[0m\n\u001b[1;37m                ^\u001b[0m\n\u001b[1;31mSyntaxError\u001b[0m\u001b[1;31m:\u001b[0m invalid syntax\n"
     ]
    }
   ],
   "source": [
    "def f(*num):\n",
    "    for n in num"
   ]
  },
  {
   "cell_type": "code",
   "execution_count": null,
   "metadata": {},
   "outputs": [],
   "source": [
    "x = 0\n",
    "while (x < 10): \n",
    "   x+=3\n",
    "print(x)"
   ]
  },
  {
   "cell_type": "code",
   "execution_count": null,
   "metadata": {},
   "outputs": [],
   "source": [
    "a = [1, 3, 5, 7]\n",
    "while a:  \n",
    "   print(a.pop())  \n",
    "   if len(a)<3:      \n",
    "      break\n",
    "else:      \n",
    "   print(\"End\")"
   ]
  },
  {
   "cell_type": "code",
   "execution_count": null,
   "metadata": {},
   "outputs": [],
   "source": [
    "l = [7, 13, 4]\n",
    "l.sort()\n",
    "v = l.pop()\n",
    "print(l, v)"
   ]
  },
  {
   "cell_type": "code",
   "execution_count": null,
   "metadata": {},
   "outputs": [],
   "source": [
    "for num in range(-2,-5,-1):\n",
    "    print(num, end=\", \")"
   ]
  },
  {
   "cell_type": "code",
   "execution_count": null,
   "metadata": {},
   "outputs": [],
   "source": [
    "print(\"Hello World\"[::-1])"
   ]
  },
  {
   "cell_type": "code",
   "execution_count": null,
   "metadata": {},
   "outputs": [],
   "source": [
    "def f(n):   \n",
    "  return n * 3 \n",
    "print(f(4))"
   ]
  },
  {
   "cell_type": "code",
   "execution_count": null,
   "metadata": {},
   "outputs": [],
   "source": [
    "if 'bar' in ['foo', 'bar', 'baz']:    \n",
    "         print(1)    \n",
    "         print(2)    \n",
    "         if 'a' in 'qux':        \n",
    "                print(3)\n",
    "print(4)"
   ]
  },
  {
   "cell_type": "code",
   "execution_count": null,
   "metadata": {},
   "outputs": [],
   "source": [
    "def f(*args):    \n",
    "     for i in args:        \n",
    "          print(i) \n",
    "\n",
    "f(name=\"Emma\", age=25)"
   ]
  },
  {
   "cell_type": "code",
   "execution_count": null,
   "metadata": {},
   "outputs": [],
   "source": [
    "x = \"700\"\n",
    "print(x.isdigit())"
   ]
  },
  {
   "cell_type": "code",
   "execution_count": null,
   "metadata": {},
   "outputs": [],
   "source": [
    "for x in [1, 2]:    \n",
    "    for y in [\"Chair\",\"Tables\"]:\n",
    "        print(x,y)"
   ]
  },
  {
   "cell_type": "code",
   "execution_count": null,
   "metadata": {},
   "outputs": [],
   "source": [
    "s = set()\n",
    "s.add(10)\n",
    "s.add((1, 2, 3))\n",
    "s.add('one')\n",
    "s.add('{1,2,3}')\n",
    "print(s)"
   ]
  },
  {
   "cell_type": "code",
   "execution_count": 14,
   "metadata": {},
   "outputs": [
    {
     "name": "stdout",
     "output_type": "stream",
     "text": [
      "Enter desired auto service:Car wash\n",
      "You entered: Car wash.\n",
      "A(n) Car wash will cost {'Oil change': 35, 'Tire rotation': 19, 'Car wash': 7}.\n",
      "A(n) Car wash will cost {'Oil change': 35, 'Tire rotation': 19, 'Car wash': 7}.\n",
      "A(n) Car wash will cost {'Oil change': 35, 'Tire rotation': 19, 'Car wash': 7}.\n"
     ]
    }
   ],
   "source": [
    "service_cost = {\n",
    "   'Oil change': 35,\n",
    "   'Tire rotation': 19,\n",
    "   'Car wash': 7\n",
    "}\n",
    "\n",
    "service_charge = str(input('Enter desired auto service:'))\n",
    "print('You entered: {}.'.format(service_charge))\n",
    "for cost in service_cost:\n",
    "    print('A(n) {} will cost {}.'.format(service_charge, service_cost))"
   ]
  },
  {
   "cell_type": "code",
   "execution_count": null,
   "metadata": {},
   "outputs": [],
   "source": []
  }
 ],
 "metadata": {
  "kernelspec": {
   "display_name": "Python 3.7 - default",
   "language": "python",
   "name": "py37_default"
  },
  "language_info": {
   "codemirror_mode": {
    "name": "ipython",
    "version": 3
   },
   "file_extension": ".py",
   "mimetype": "text/x-python",
   "name": "python",
   "nbconvert_exporter": "python",
   "pygments_lexer": "ipython3",
   "version": "3.7.7"
  }
 },
 "nbformat": 4,
 "nbformat_minor": 4
}
